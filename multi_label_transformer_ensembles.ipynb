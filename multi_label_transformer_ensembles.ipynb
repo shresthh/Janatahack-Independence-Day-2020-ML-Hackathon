{
  "nbformat": 4,
  "nbformat_minor": 0,
  "metadata": {
    "accelerator": "GPU",
    "colab": {
      "name": "multi_label_transformer_ensembles.ipynb",
      "provenance": [],
      "collapsed_sections": [],
      "toc_visible": true
    },
    "kernelspec": {
      "display_name": "Python 3",
      "language": "python",
      "name": "python3"
    },
    "language_info": {
      "codemirror_mode": {
        "name": "ipython",
        "version": 3
      },
      "file_extension": ".py",
      "mimetype": "text/x-python",
      "name": "python",
      "nbconvert_exporter": "python",
      "pygments_lexer": "ipython3",
      "version": "3.7.6"
    },
    "widgets": {
      "application/vnd.jupyter.widget-state+json": {
        "539aa69147aa48b7b6c0b7125f8f6e7d": {
          "model_module": "@jupyter-widgets/controls",
          "model_name": "HBoxModel",
          "state": {
            "_dom_classes": [],
            "_model_module": "@jupyter-widgets/controls",
            "_model_module_version": "1.5.0",
            "_model_name": "HBoxModel",
            "_view_count": null,
            "_view_module": "@jupyter-widgets/controls",
            "_view_module_version": "1.5.0",
            "_view_name": "HBoxView",
            "box_style": "",
            "children": [
              "IPY_MODEL_c0967ec80e0948ad8571b2de5b9e852b",
              "IPY_MODEL_f70e5930974243eda7dd337e2e7e4ba1"
            ],
            "layout": "IPY_MODEL_3bf2909afe25459aae57ebedb2b1a4a9"
          }
        },
        "3bf2909afe25459aae57ebedb2b1a4a9": {
          "model_module": "@jupyter-widgets/base",
          "model_name": "LayoutModel",
          "state": {
            "_model_module": "@jupyter-widgets/base",
            "_model_module_version": "1.2.0",
            "_model_name": "LayoutModel",
            "_view_count": null,
            "_view_module": "@jupyter-widgets/base",
            "_view_module_version": "1.2.0",
            "_view_name": "LayoutView",
            "align_content": null,
            "align_items": null,
            "align_self": null,
            "border": null,
            "bottom": null,
            "display": null,
            "flex": null,
            "flex_flow": null,
            "grid_area": null,
            "grid_auto_columns": null,
            "grid_auto_flow": null,
            "grid_auto_rows": null,
            "grid_column": null,
            "grid_gap": null,
            "grid_row": null,
            "grid_template_areas": null,
            "grid_template_columns": null,
            "grid_template_rows": null,
            "height": null,
            "justify_content": null,
            "justify_items": null,
            "left": null,
            "margin": null,
            "max_height": null,
            "max_width": null,
            "min_height": null,
            "min_width": null,
            "object_fit": null,
            "object_position": null,
            "order": null,
            "overflow": null,
            "overflow_x": null,
            "overflow_y": null,
            "padding": null,
            "right": null,
            "top": null,
            "visibility": null,
            "width": null
          }
        },
        "c0967ec80e0948ad8571b2de5b9e852b": {
          "model_module": "@jupyter-widgets/controls",
          "model_name": "FloatProgressModel",
          "state": {
            "_dom_classes": [],
            "_model_module": "@jupyter-widgets/controls",
            "_model_module_version": "1.5.0",
            "_model_name": "FloatProgressModel",
            "_view_count": null,
            "_view_module": "@jupyter-widgets/controls",
            "_view_module_version": "1.5.0",
            "_view_name": "ProgressView",
            "bar_style": "success",
            "description": "Downloading: 100%",
            "description_tooltip": null,
            "layout": "IPY_MODEL_5bfe3a3eaa4e4729b500dd39b754562e",
            "max": 548118077,
            "min": 0,
            "orientation": "horizontal",
            "style": "IPY_MODEL_1adb41e67105496e89e88989a009341c",
            "value": 548118077
          }
        },
        "f70e5930974243eda7dd337e2e7e4ba1": {
          "model_module": "@jupyter-widgets/controls",
          "model_name": "HTMLModel",
          "state": {
            "_dom_classes": [],
            "_model_module": "@jupyter-widgets/controls",
            "_model_module_version": "1.5.0",
            "_model_name": "HTMLModel",
            "_view_count": null,
            "_view_module": "@jupyter-widgets/controls",
            "_view_module_version": "1.5.0",
            "_view_name": "HTMLView",
            "description": "",
            "description_tooltip": null,
            "layout": "IPY_MODEL_270cd5cccbde4bb88cd0201c8a7f4109",
            "placeholder": "​",
            "style": "IPY_MODEL_0e63c720918f4adeaa3569d83d32edfd",
            "value": " 548M/548M [00:19&lt;00:00, 27.7MB/s]"
          }
        },
        "1adb41e67105496e89e88989a009341c": {
          "model_module": "@jupyter-widgets/controls",
          "model_name": "ProgressStyleModel",
          "state": {
            "_model_module": "@jupyter-widgets/controls",
            "_model_module_version": "1.5.0",
            "_model_name": "ProgressStyleModel",
            "_view_count": null,
            "_view_module": "@jupyter-widgets/base",
            "_view_module_version": "1.2.0",
            "_view_name": "StyleView",
            "bar_color": null,
            "description_width": "initial"
          }
        },
        "5bfe3a3eaa4e4729b500dd39b754562e": {
          "model_module": "@jupyter-widgets/base",
          "model_name": "LayoutModel",
          "state": {
            "_model_module": "@jupyter-widgets/base",
            "_model_module_version": "1.2.0",
            "_model_name": "LayoutModel",
            "_view_count": null,
            "_view_module": "@jupyter-widgets/base",
            "_view_module_version": "1.2.0",
            "_view_name": "LayoutView",
            "align_content": null,
            "align_items": null,
            "align_self": null,
            "border": null,
            "bottom": null,
            "display": null,
            "flex": null,
            "flex_flow": null,
            "grid_area": null,
            "grid_auto_columns": null,
            "grid_auto_flow": null,
            "grid_auto_rows": null,
            "grid_column": null,
            "grid_gap": null,
            "grid_row": null,
            "grid_template_areas": null,
            "grid_template_columns": null,
            "grid_template_rows": null,
            "height": null,
            "justify_content": null,
            "justify_items": null,
            "left": null,
            "margin": null,
            "max_height": null,
            "max_width": null,
            "min_height": null,
            "min_width": null,
            "object_fit": null,
            "object_position": null,
            "order": null,
            "overflow": null,
            "overflow_x": null,
            "overflow_y": null,
            "padding": null,
            "right": null,
            "top": null,
            "visibility": null,
            "width": null
          }
        },
        "0e63c720918f4adeaa3569d83d32edfd": {
          "model_module": "@jupyter-widgets/controls",
          "model_name": "DescriptionStyleModel",
          "state": {
            "_model_module": "@jupyter-widgets/controls",
            "_model_module_version": "1.5.0",
            "_model_name": "DescriptionStyleModel",
            "_view_count": null,
            "_view_module": "@jupyter-widgets/base",
            "_view_module_version": "1.2.0",
            "_view_name": "StyleView",
            "description_width": ""
          }
        },
        "270cd5cccbde4bb88cd0201c8a7f4109": {
          "model_module": "@jupyter-widgets/base",
          "model_name": "LayoutModel",
          "state": {
            "_model_module": "@jupyter-widgets/base",
            "_model_module_version": "1.2.0",
            "_model_name": "LayoutModel",
            "_view_count": null,
            "_view_module": "@jupyter-widgets/base",
            "_view_module_version": "1.2.0",
            "_view_name": "LayoutView",
            "align_content": null,
            "align_items": null,
            "align_self": null,
            "border": null,
            "bottom": null,
            "display": null,
            "flex": null,
            "flex_flow": null,
            "grid_area": null,
            "grid_auto_columns": null,
            "grid_auto_flow": null,
            "grid_auto_rows": null,
            "grid_column": null,
            "grid_gap": null,
            "grid_row": null,
            "grid_template_areas": null,
            "grid_template_columns": null,
            "grid_template_rows": null,
            "height": null,
            "justify_content": null,
            "justify_items": null,
            "left": null,
            "margin": null,
            "max_height": null,
            "max_width": null,
            "min_height": null,
            "min_width": null,
            "object_fit": null,
            "object_position": null,
            "order": null,
            "overflow": null,
            "overflow_x": null,
            "overflow_y": null,
            "padding": null,
            "right": null,
            "top": null,
            "visibility": null,
            "width": null
          }
        }
      }
    }
  },
  "cells": [
    {
      "cell_type": "markdown",
      "metadata": {
        "id": "4ylnGgkwtWZx"
      },
      "source": [
        "## **Importing huggingface-transformers library which gives efficient access to complex transformer based pre trained models**\n",
        "\n",
        "\n",
        "\n",
        "\n",
        "\n",
        "For reference : https://huggingface.co/transformers/"
      ]
    },
    {
      "cell_type": "code",
      "metadata": {
        "id": "-W9t6gHFwJk7",
        "colab": {
          "base_uri": "https://localhost:8080/",
          "height": 615
        },
        "outputId": "816c486b-36da-4159-cd0b-7d1348c9a707"
      },
      "source": [
        "!pip install transformers"
      ],
      "execution_count": null,
      "outputs": [
        {
          "output_type": "stream",
          "text": [
            "Collecting transformers\n",
            "\u001b[?25l  Downloading https://files.pythonhosted.org/packages/27/3c/91ed8f5c4e7ef3227b4119200fc0ed4b4fd965b1f0172021c25701087825/transformers-3.0.2-py3-none-any.whl (769kB)\n",
            "\u001b[K     |████████████████████████████████| 778kB 7.4MB/s \n",
            "\u001b[?25hCollecting sacremoses\n",
            "\u001b[?25l  Downloading https://files.pythonhosted.org/packages/7d/34/09d19aff26edcc8eb2a01bed8e98f13a1537005d31e95233fd48216eed10/sacremoses-0.0.43.tar.gz (883kB)\n",
            "\u001b[K     |████████████████████████████████| 890kB 18.9MB/s \n",
            "\u001b[?25hCollecting sentencepiece!=0.1.92\n",
            "\u001b[?25l  Downloading https://files.pythonhosted.org/packages/d4/a4/d0a884c4300004a78cca907a6ff9a5e9fe4f090f5d95ab341c53d28cbc58/sentencepiece-0.1.91-cp36-cp36m-manylinux1_x86_64.whl (1.1MB)\n",
            "\u001b[K     |████████████████████████████████| 1.1MB 40.8MB/s \n",
            "\u001b[?25hRequirement already satisfied: requests in /usr/local/lib/python3.6/dist-packages (from transformers) (2.23.0)\n",
            "Collecting tokenizers==0.8.1.rc1\n",
            "\u001b[?25l  Downloading https://files.pythonhosted.org/packages/40/d0/30d5f8d221a0ed981a186c8eb986ce1c94e3a6e87f994eae9f4aa5250217/tokenizers-0.8.1rc1-cp36-cp36m-manylinux1_x86_64.whl (3.0MB)\n",
            "\u001b[K     |████████████████████████████████| 3.0MB 40.3MB/s \n",
            "\u001b[?25hRequirement already satisfied: dataclasses; python_version < \"3.7\" in /usr/local/lib/python3.6/dist-packages (from transformers) (0.7)\n",
            "Requirement already satisfied: tqdm>=4.27 in /usr/local/lib/python3.6/dist-packages (from transformers) (4.41.1)\n",
            "Requirement already satisfied: filelock in /usr/local/lib/python3.6/dist-packages (from transformers) (3.0.12)\n",
            "Requirement already satisfied: numpy in /usr/local/lib/python3.6/dist-packages (from transformers) (1.18.5)\n",
            "Requirement already satisfied: packaging in /usr/local/lib/python3.6/dist-packages (from transformers) (20.4)\n",
            "Requirement already satisfied: regex!=2019.12.17 in /usr/local/lib/python3.6/dist-packages (from transformers) (2019.12.20)\n",
            "Requirement already satisfied: six in /usr/local/lib/python3.6/dist-packages (from sacremoses->transformers) (1.15.0)\n",
            "Requirement already satisfied: click in /usr/local/lib/python3.6/dist-packages (from sacremoses->transformers) (7.1.2)\n",
            "Requirement already satisfied: joblib in /usr/local/lib/python3.6/dist-packages (from sacremoses->transformers) (0.16.0)\n",
            "Requirement already satisfied: certifi>=2017.4.17 in /usr/local/lib/python3.6/dist-packages (from requests->transformers) (2020.6.20)\n",
            "Requirement already satisfied: urllib3!=1.25.0,!=1.25.1,<1.26,>=1.21.1 in /usr/local/lib/python3.6/dist-packages (from requests->transformers) (1.24.3)\n",
            "Requirement already satisfied: chardet<4,>=3.0.2 in /usr/local/lib/python3.6/dist-packages (from requests->transformers) (3.0.4)\n",
            "Requirement already satisfied: idna<3,>=2.5 in /usr/local/lib/python3.6/dist-packages (from requests->transformers) (2.10)\n",
            "Requirement already satisfied: pyparsing>=2.0.2 in /usr/local/lib/python3.6/dist-packages (from packaging->transformers) (2.4.7)\n",
            "Building wheels for collected packages: sacremoses\n",
            "  Building wheel for sacremoses (setup.py) ... \u001b[?25l\u001b[?25hdone\n",
            "  Created wheel for sacremoses: filename=sacremoses-0.0.43-cp36-none-any.whl size=893260 sha256=9928621d1ac633b1eb84771d5de69984109afe8e9939ae4fa407cc73c05fbe92\n",
            "  Stored in directory: /root/.cache/pip/wheels/29/3c/fd/7ce5c3f0666dab31a50123635e6fb5e19ceb42ce38d4e58f45\n",
            "Successfully built sacremoses\n",
            "Installing collected packages: sacremoses, sentencepiece, tokenizers, transformers\n",
            "Successfully installed sacremoses-0.0.43 sentencepiece-0.1.91 tokenizers-0.8.1rc1 transformers-3.0.2\n"
          ],
          "name": "stdout"
        }
      ]
    },
    {
      "cell_type": "markdown",
      "metadata": {
        "id": "A7Vso8F5v3jC"
      },
      "source": [
        "##Importing other necessary libraries"
      ]
    },
    {
      "cell_type": "code",
      "metadata": {
        "id": "97eqdNHfwEJD"
      },
      "source": [
        "import os\n",
        "import math\n",
        "\n",
        "import torch\n",
        "from torch.nn import BCEWithLogitsLoss\n",
        "from torch.utils.data import TensorDataset, DataLoader, RandomSampler, SequentialSampler\n",
        "from transformers import AdamW\n",
        "from keras.preprocessing.sequence import pad_sequences\n",
        "from sklearn.model_selection import train_test_split\n",
        "import numpy as np\n",
        "import pandas as pd\n",
        "from tqdm import tqdm, trange\n",
        "import matplotlib.pyplot as plt\n",
        "%matplotlib inline"
      ],
      "execution_count": null,
      "outputs": []
    },
    {
      "cell_type": "markdown",
      "metadata": {
        "id": "QMDkGtGzwhju"
      },
      "source": [
        "## Checking for GPU availability"
      ]
    },
    {
      "cell_type": "code",
      "metadata": {
        "id": "IGwooryXvnju",
        "colab": {
          "base_uri": "https://localhost:8080/",
          "height": 68
        },
        "outputId": "6c747ae5-767c-4474-e242-f4460454fef5"
      },
      "source": [
        "print(\"GPU Available: {}\".format(torch.cuda.is_available()))\n",
        "n_gpu = torch.cuda.device_count()\n",
        "print(\"Number of GPU Available: {}\".format(n_gpu))\n",
        "print(\"GPU: {}\".format(torch.cuda.get_device_name(0)))"
      ],
      "execution_count": null,
      "outputs": [
        {
          "output_type": "stream",
          "text": [
            "GPU Available: True\n",
            "Number of GPU Available: 1\n",
            "GPU: Tesla K80\n"
          ],
          "name": "stdout"
        }
      ]
    },
    {
      "cell_type": "markdown",
      "metadata": {
        "id": "1Fs-73miw5w9"
      },
      "source": [
        "##Reading the training and testing dataset"
      ]
    },
    {
      "cell_type": "code",
      "metadata": {
        "id": "e6OVssXtwNwo"
      },
      "source": [
        "training = pd.read_csv('/content/drive/My Drive/train.csv', index_col='ID')\n",
        "testing = pd.read_csv('/content/drive/My Drive/test.csv', index_col='ID')"
      ],
      "execution_count": null,
      "outputs": []
    },
    {
      "cell_type": "markdown",
      "metadata": {
        "id": "bLuBtYBmxPfD"
      },
      "source": [
        "## As we have 2 text columns in the dataset. Lets combine it together using a 'sep' token which indicates a sentence seperator"
      ]
    },
    {
      "cell_type": "code",
      "metadata": {
        "id": "LkTR3hkWwWyt"
      },
      "source": [
        "train_text_list = training['TITLE'] + ' [SEP] ' + training['ABSTRACT']\n",
        "train_text_list = train_text_list.values\n",
        "test_text_list = testing['TITLE'] + ' [SEP] ' + testing['ABSTRACT']\n",
        "test_text_list  = test_text_list.values"
      ],
      "execution_count": null,
      "outputs": []
    },
    {
      "cell_type": "markdown",
      "metadata": {
        "id": "E5JaRmpBK2sP"
      },
      "source": [
        "##**CHOOSING THE TRANSFORMER MODEL WHICH I WANT TO WORK ON**\n",
        "\n",
        "Note: For more info refer https://huggingface.co/transformers/tokenizer_summary.html "
      ]
    },
    {
      "cell_type": "code",
      "metadata": {
        "id": "M5Xh-H40J3wd"
      },
      "source": [
        "transformer_models = ['gpt2','bert-base-uncased',  'xlnet-base-uncased', 'albert-base-v2', 'allenai/scibert_scivocab_uncased']\n",
        "now_model = transformer_models[0]\n"
      ],
      "execution_count": null,
      "outputs": []
    },
    {
      "cell_type": "markdown",
      "metadata": {
        "id": "Zzz2N7RJx_MK"
      },
      "source": [
        "## Lets use the tokenizer from the transformers module . <br> Note: Instead of importing tokenizers for each individual transformer model , as we are trying to work with multiple transformer based models like bert, xlnet, sci-bert , al-bert and gpt 2  lets import AutoTokenizer and pass the required pretrained models"
      ]
    },
    {
      "cell_type": "code",
      "metadata": {
        "id": "uJDhBmefo0fx"
      },
      "source": [
        "from transformers import AutoTokenizer\n",
        "tokenizer = AutoTokenizer.from_pretrained(now_model)"
      ],
      "execution_count": null,
      "outputs": []
    },
    {
      "cell_type": "code",
      "metadata": {
        "id": "688ya99EIdDt",
        "colab": {
          "base_uri": "https://localhost:8080/",
          "height": 334
        },
        "outputId": "c2691cb6-1de3-4946-ae61-d3ddf7b51a5a"
      },
      "source": [
        "def plot_sentence_embeddings_length(text_list, tokenizer):\n",
        "    tokenized_texts = list(map(lambda t: tokenizer.tokenize(t), text_list))\n",
        "    tokenized_texts_len = list(map(lambda t: len(t), tokenized_texts))\n",
        "    fig, ax = plt.subplots(figsize=(8, 5));\n",
        "    ax.hist(tokenized_texts_len, bins=40);\n",
        "    ax.set_xlabel(\"Length of Comment Embeddings\");\n",
        "    ax.set_ylabel(\"Number of Comments\");\n",
        "    return\n",
        "\n",
        "plot_sentence_embeddings_length(train_text_list, tokenizer)"
      ],
      "execution_count": null,
      "outputs": [
        {
          "output_type": "display_data",
          "data": {
            "image/png": "[encoded data removed]",
            "text/plain": [
              "<Figure size 576x360 with 1 Axes>"
            ]
          },
          "metadata": {
            "tags": [],
            "needs_background": "light"
          }
        }
      ]
    },
    {
      "cell_type": "code",
      "metadata": {
        "id": "IBGs7FzKw2oq"
      },
      "source": [
        "def tokenize_inputs(text_list, tokenizer, num_embeddings=512):\n",
        "    \"\"\"\n",
        "    Tokenizes the input text input into ids. Appends the appropriate special\n",
        "    characters to the end of the text to denote end of sentence. Truncate or pad\n",
        "    the appropriate sequence length.\n",
        "    \"\"\"\n",
        "    # tokenize the text, then truncate sequence to the desired length minus 5 for\n",
        "    # the special characters\n",
        "    tokenized_texts = list(map(lambda t: tokenizer.tokenize(t)[:num_embeddings- 5], text_list))\n",
        "    # convert tokenized text into numeric ids for the appropriate LM\n",
        "    input_ids = [tokenizer.convert_tokens_to_ids(x) for x in tokenized_texts]\n",
        "    # append special token \"<s>\" and </s> or [CLS] and [SEP] to the beginning and end of sentence\n",
        "    input_ids = [tokenizer.build_inputs_with_special_tokens(x) for x in input_ids]\n",
        "    # pad sequences\n",
        "    input_ids = pad_sequences(input_ids, maxlen=num_embeddings, dtype=\"long\", truncating=\"post\", padding=\"post\")\n",
        "    return input_ids\n",
        "\n",
        "def create_attn_masks(input_ids):\n",
        "    \"\"\"\n",
        "    Create attention masks to tell model whether attention should be applied to\n",
        "    the input id tokens. Do not want to perform attention on padding tokens.\n",
        "    \"\"\"\n",
        "    # Create attention masks\n",
        "    attention_masks = []\n",
        "\n",
        "    # Create a mask of 1s for each token followed by 0s for padding\n",
        "    for seq in input_ids:\n",
        "        seq_mask = [float(i>0) for i in seq]\n",
        "        attention_masks.append(seq_mask)\n",
        "    return attention_masks"
      ],
      "execution_count": null,
      "outputs": []
    },
    {
      "cell_type": "code",
      "metadata": {
        "id": "1xxDCuRhxUHI",
        "colab": {
          "base_uri": "https://localhost:8080/",
          "height": 136
        },
        "outputId": "8d7eaa08-2c38-45ad-9a8c-b582c329be8b"
      },
      "source": [
        "# creating input id tokens for train\n",
        "train_input_ids = tokenize_inputs(train_text_list, tokenizer, num_embeddings= 300)\n",
        "train_input_ids"
      ],
      "execution_count": null,
      "outputs": [
        {
          "output_type": "execute_result",
          "data": {
            "text/plain": [
              "array([[ 6690,   261,  7249, ...,     0,     0,     0],\n",
              "       [   49, 14221, 10001, ...,     0,     0,     0],\n",
              "       [ 4561, 37910,  7514, ...,     0,     0,     0],\n",
              "       ...,\n",
              "       [ 2025, 26266,   278, ...,     0,     0,     0],\n",
              "       [ 2202,   262,   412, ...,     0,     0,     0],\n",
              "       [ 5195, 11902, 12225, ...,     0,     0,     0]])"
            ]
          },
          "metadata": {
            "tags": []
          },
          "execution_count": 13
        }
      ]
    },
    {
      "cell_type": "code",
      "metadata": {
        "id": "3Fg1WTO8xZ1C",
        "colab": {
          "base_uri": "https://localhost:8080/",
          "height": 136
        },
        "outputId": "7622a6fd-9509-4d59-e34d-3b5d604e093f"
      },
      "source": [
        "# creating input id tokens for test\n",
        "test_input_ids = tokenize_inputs(test_text_list, tokenizer, num_embeddings= 300)\n",
        "test_input_ids"
      ],
      "execution_count": null,
      "outputs": [
        {
          "output_type": "execute_result",
          "data": {
            "text/plain": [
              "array([[ 2601,  1335,    12, ...,     0,     0,     0],\n",
              "       [42230,  2870,  3095, ...,     0,     0,     0],\n",
              "       [20448,  1114, 36125, ...,     0,     0,     0],\n",
              "       ...,\n",
              "       [39358, 15854,   532, ...,     0,     0,     0],\n",
              "       [24915,  4035,   262, ...,     0,     0,     0],\n",
              "       [29071,    12, 32707, ...,     0,     0,     0]])"
            ]
          },
          "metadata": {
            "tags": []
          },
          "execution_count": 14
        }
      ]
    },
    {
      "cell_type": "code",
      "metadata": {
        "id": "UAJZvod-xkbA"
      },
      "source": [
        "# creating attention masks for train\n",
        "train_attention_masks = create_attn_masks(train_input_ids)"
      ],
      "execution_count": null,
      "outputs": []
    },
    {
      "cell_type": "code",
      "metadata": {
        "id": "MlNBS5y4xtn-"
      },
      "source": [
        "# creating attention masks for test\n",
        "test_attention_masks = create_attn_masks(test_input_ids)"
      ],
      "execution_count": null,
      "outputs": []
    },
    {
      "cell_type": "code",
      "metadata": {
        "id": "pV2mIvS2x1p8"
      },
      "source": [
        "## lets add input id's and attention masks in our dataset\n",
        "training[\"features\"] = train_input_ids.tolist()\n",
        "training[\"masks\"] = train_attention_masks\n",
        "\n",
        "testing[\"features\"] = test_input_ids.tolist()\n",
        "testing[\"masks\"] = test_attention_masks"
      ],
      "execution_count": null,
      "outputs": []
    },
    {
      "cell_type": "markdown",
      "metadata": {
        "id": "WLTUvLSb07Tu"
      },
      "source": [
        "##TRAIN VALIDATION SPLIT"
      ]
    },
    {
      "cell_type": "code",
      "metadata": {
        "id": "smaZviJbx8la"
      },
      "source": [
        "\n",
        "trainy, valid = train_test_split(training, test_size=0.15, random_state= 50)"
      ],
      "execution_count": null,
      "outputs": []
    },
    {
      "cell_type": "code",
      "metadata": {
        "id": "8B7S9C4ZyFxl"
      },
      "source": [
        "X_train = trainy[\"features\"].values.tolist()\n",
        "X_valid = valid[\"features\"].values.tolist()\n",
        "\n",
        "train_masks = trainy[\"masks\"].values.tolist()\n",
        "valid_masks = valid[\"masks\"].values.tolist()\n",
        "\n",
        "Y_train = trainy.iloc[:,2:8].values.tolist()\n",
        "Y_valid = valid.iloc[:,2:8].values.tolist()"
      ],
      "execution_count": null,
      "outputs": []
    },
    {
      "cell_type": "code",
      "metadata": {
        "id": "xJmrXpj7yIKu"
      },
      "source": [
        "X_train = torch.tensor(X_train)\n",
        "X_valid = torch.tensor(X_valid)\n",
        "\n",
        "Y_train = torch.tensor(Y_train, dtype=torch.float32)\n",
        "Y_valid = torch.tensor(Y_valid, dtype=torch.float32)\n",
        "\n",
        "train_masks = torch.tensor(train_masks, dtype=torch.half)\n",
        "valid_masks = torch.tensor(valid_masks, dtype=torch.half)"
      ],
      "execution_count": null,
      "outputs": []
    },
    {
      "cell_type": "markdown",
      "metadata": {
        "id": "5CL-dtq_1Vbj"
      },
      "source": [
        "## CREATING DATALOADERS"
      ]
    },
    {
      "cell_type": "code",
      "metadata": {
        "id": "NvvCCn28yNjb"
      },
      "source": [
        "batch_size = 16\n",
        "\n",
        "# Create an iterator of our data with torch DataLoader. This helps save on \n",
        "# memory during training because, unlike a for loop, \n",
        "# with an iterator the entire dataset does not need to be loaded into memory\n",
        "\n",
        "train_data = TensorDataset(X_train, train_masks, Y_train)\n",
        "train_sampler = RandomSampler(train_data)\n",
        "train_dataloader = DataLoader(train_data,\\\n",
        "                              sampler=train_sampler,\\\n",
        "                              batch_size=batch_size)\n",
        "\n",
        "validation_data = TensorDataset(X_valid, valid_masks, Y_valid)\n",
        "validation_sampler = SequentialSampler(validation_data)\n",
        "validation_dataloader = DataLoader(validation_data,\\\n",
        "                                   sampler=validation_sampler,\\\n",
        "                                   batch_size=batch_size)"
      ],
      "execution_count": null,
      "outputs": []
    },
    {
      "cell_type": "markdown",
      "metadata": {
        "id": "dUlPBs6G3-NX"
      },
      "source": [
        "##Lets define our model class. As we know that we are performing multi label text classification we need to add an additional linear layer (output layer) specifying the 'num_labels' as no of label columns - 6 in this case\n",
        "\n",
        "####Note: When using large transformer models such as bert-large we need to change the dimension of our last layer to (1024, num_labels) from (768,num_labels) as the hidden units for those are 1024"
      ]
    },
    {
      "cell_type": "code",
      "metadata": {
        "id": "53mzHMAszIDk",
        "colab": {
          "base_uri": "https://localhost:8080/",
          "height": 120,
          "referenced_widgets": [
            "539aa69147aa48b7b6c0b7125f8f6e7d",
            "3bf2909afe25459aae57ebedb2b1a4a9",
            "c0967ec80e0948ad8571b2de5b9e852b",
            "f70e5930974243eda7dd337e2e7e4ba1",
            "1adb41e67105496e89e88989a009341c",
            "5bfe3a3eaa4e4729b500dd39b754562e",
            "0e63c720918f4adeaa3569d83d32edfd",
            "270cd5cccbde4bb88cd0201c8a7f4109"
          ]
        },
        "outputId": "c876f1b1-c8b8-4b6d-87ff-2cabdf0a189d"
      },
      "source": [
        "from transformers import AutoModel\n",
        "\n",
        "class MultiLabelSequenceClassification(torch.nn.Module):\n",
        "  \n",
        "  def __init__(self, num_labels=2):\n",
        "    super(MultiLabelSequenceClassification, self).__init__()\n",
        "    self.num_labels = num_labels\n",
        "    self.the_model = AutoModel.from_pretrained(now_model)\n",
        "    self.classifier = torch.nn.Linear(768, num_labels)\n",
        "\n",
        "    torch.nn.init.xavier_normal_(self.classifier.weight)\n",
        "\n",
        "  def forward(self, input_ids, token_type_ids=None,\\\n",
        "              attention_mask=None, labels=None):\n",
        "    # last hidden layer\n",
        "    last_hidden_state = self.the_model(input_ids=input_ids,\\\n",
        "                                   attention_mask=attention_mask,\\\n",
        "                                   token_type_ids=token_type_ids)\n",
        "    # pool the outputs into a mean vector\n",
        "    mean_last_hidden_state = self.pool_hidden_state(last_hidden_state)\n",
        "    logits = self.classifier(mean_last_hidden_state)\n",
        "        \n",
        "    if labels is not None:\n",
        "      loss_fct = BCEWithLogitsLoss()\n",
        "      loss = loss_fct(logits.view(-1, self.num_labels),\\\n",
        "                      labels.view(-1, self.num_labels))\n",
        "      return loss\n",
        "    else:\n",
        "      return logits\n",
        "    \n",
        "  def freeze_the_decoder(self):\n",
        "    \"\"\"\n",
        "    Freeze weight parameters. They will not be updated during training.\n",
        "    \"\"\"\n",
        "    for param in self.the_model.parameters():\n",
        "      param.requires_grad = False\n",
        "    \n",
        "  def unfreeze_the_decoder(self):\n",
        "    \"\"\"\n",
        "    Unfreeze weight parameters. They will be updated during training.\n",
        "    \"\"\"\n",
        "    for param in self.the_model.parameters():\n",
        "      param.requires_grad = True\n",
        "    \n",
        "  def pool_hidden_state(self, last_hidden_state):\n",
        "    \"\"\"\n",
        "    Pool the output vectors into a single mean vector \n",
        "    \"\"\"\n",
        "    last_hidden_state = last_hidden_state[0]\n",
        "    mean_last_hidden_state = torch.mean(last_hidden_state, 1)\n",
        "    return mean_last_hidden_state\n",
        "    \n",
        "model = MultiLabelSequenceClassification(num_labels=len(Y_train[0]))"
      ],
      "execution_count": null,
      "outputs": [
        {
          "output_type": "display_data",
          "data": {
            "application/vnd.jupyter.widget-view+json": {
              "model_id": "539aa69147aa48b7b6c0b7125f8f6e7d",
              "version_major": 2,
              "version_minor": 0
            },
            "text/plain": [
              "HBox(children=(FloatProgress(value=0.0, description='Downloading', max=548118077.0, style=ProgressStyle(descri…"
            ]
          },
          "metadata": {
            "tags": []
          }
        },
        {
          "output_type": "stream",
          "text": [
            "\n"
          ],
          "name": "stdout"
        },
        {
          "output_type": "stream",
          "text": [
            "Some weights of GPT2Model were not initialized from the model checkpoint at gpt2 and are newly initialized: ['h.0.attn.masked_bias', 'h.1.attn.masked_bias', 'h.2.attn.masked_bias', 'h.3.attn.masked_bias', 'h.4.attn.masked_bias', 'h.5.attn.masked_bias', 'h.6.attn.masked_bias', 'h.7.attn.masked_bias', 'h.8.attn.masked_bias', 'h.9.attn.masked_bias', 'h.10.attn.masked_bias', 'h.11.attn.masked_bias']\n",
            "You should probably TRAIN this model on a down-stream task to be able to use it for predictions and inference.\n"
          ],
          "name": "stderr"
        }
      ]
    },
    {
      "cell_type": "code",
      "metadata": {
        "id": "KjPf68ghyd9t"
      },
      "source": [
        "torch.cuda.empty_cache()"
      ],
      "execution_count": null,
      "outputs": []
    },
    {
      "cell_type": "markdown",
      "metadata": {
        "id": "-9apxQW86mt9"
      },
      "source": [
        "## Lets define the training function"
      ]
    },
    {
      "cell_type": "code",
      "metadata": {
        "id": "qqv8e68-0f6f"
      },
      "source": [
        "def train(model, num_epochs,\\\n",
        "          optimizer,\\\n",
        "          train_dataloader, valid_dataloader,\\\n",
        "          model_save_path,\\\n",
        "          train_loss_set=[], valid_loss_set = [],\\\n",
        "          lowest_eval_loss=None, start_epoch=0,\\\n",
        "          device=\"cpu\"\n",
        "          ):\n",
        "  \"\"\"\n",
        "  Train the model and save the model with the lowest validation loss\n",
        "  \"\"\"\n",
        "\n",
        "  model.to(device)\n",
        "\n",
        "  # trange is a tqdm wrapper around the normal python range\n",
        "  for i in trange(num_epochs, desc=\"Epoch\"):\n",
        "    # if continue training from saved model\n",
        "    actual_epoch = start_epoch + i\n",
        "\n",
        "    # Training\n",
        "\n",
        "    # Set our model to training mode (as opposed to evaluation mode)\n",
        "    model.train()\n",
        "\n",
        "    # Tracking variables\n",
        "    tr_loss = 0\n",
        "    num_train_samples = 0\n",
        "\n",
        "    # Train the data for one epoch\n",
        "    for step, batch in enumerate(train_dataloader):\n",
        "      # Add batch to GPU\n",
        "      batch = tuple(t.to(device) for t in batch)\n",
        "      # Unpack the inputs from our dataloader\n",
        "      b_input_ids, b_input_mask, b_labels = batch\n",
        "      # Clear out the gradients (by default they accumulate)\n",
        "      optimizer.zero_grad()\n",
        "      # Forward pass\n",
        "      loss = model(b_input_ids, attention_mask=b_input_mask, labels=b_labels)\n",
        "      # store train loss\n",
        "      tr_loss += float(loss.item())\n",
        "      num_train_samples += b_labels.size(0)\n",
        "      # Backward pass\n",
        "      loss.backward()\n",
        "      # Update parameters and take a step using the computed gradient\n",
        "      optimizer.step()\n",
        "      #scheduler.step()\n",
        "\n",
        "    # Update tracking variables\n",
        "    epoch_train_loss = tr_loss/num_train_samples\n",
        "    train_loss_set.append(epoch_train_loss)\n",
        "\n",
        "    print(\"Train loss: {}\".format(epoch_train_loss))\n",
        "    # Validation\n",
        "\n",
        "    # Put model in evaluation mode to evaluate loss on the validation set\n",
        "    model.eval()\n",
        "\n",
        "    # Tracking variables \n",
        "    eval_loss = 0\n",
        "    num_eval_samples = 0\n",
        "\n",
        "    # Evaluate data for one epoch\n",
        "    for batch in valid_dataloader:\n",
        "      # Add batch to GPU\n",
        "      batch = tuple(t.to(device) for t in batch)\n",
        "      # Unpack the inputs from our dataloader\n",
        "      b_input_ids, b_input_mask, b_labels = batch\n",
        "      # Telling the model not to compute or store gradients,\n",
        "      # saving memory and speeding up validation\n",
        "      with torch.no_grad():\n",
        "        # Forward pass, calculate validation loss\n",
        "        loss = model(b_input_ids, attention_mask=b_input_mask, labels=b_labels)\n",
        "        # store valid loss\n",
        "        eval_loss += float(loss.item())\n",
        "        num_eval_samples += b_labels.size(0)\n",
        "\n",
        "    epoch_eval_loss = eval_loss/num_eval_samples\n",
        "    valid_loss_set.append(epoch_eval_loss)\n",
        "\n",
        "    print(\"Valid loss: {}\".format(epoch_eval_loss))\n",
        "\n",
        "    if lowest_eval_loss == None:\n",
        "      lowest_eval_loss = epoch_eval_loss\n",
        "      # save model\n",
        "      save_model(model, model_save_path, actual_epoch,\\\n",
        "                 lowest_eval_loss, train_loss_set, valid_loss_set)\n",
        "    else:\n",
        "      if epoch_eval_loss < lowest_eval_loss:\n",
        "        lowest_eval_loss = epoch_eval_loss\n",
        "        # save model\n",
        "        save_model(model, model_save_path, actual_epoch,\\\n",
        "                   lowest_eval_loss, train_loss_set, valid_loss_set)\n",
        "    print(\"\\n\")\n",
        "\n",
        "  return model, train_loss_set, valid_loss_set\n",
        "\n",
        "\n"
      ],
      "execution_count": null,
      "outputs": []
    },
    {
      "cell_type": "markdown",
      "metadata": {
        "id": "SWmN_t4O7XPB"
      },
      "source": [
        "##Saving the model to the path directory provided"
      ]
    },
    {
      "cell_type": "code",
      "metadata": {
        "id": "PoKxH2mV3cIv"
      },
      "source": [
        "def save_model(model, save_path, epochs, lowest_eval_loss, train_loss_hist, valid_loss_hist):\n",
        "  model_to_save = model.module if hasattr(model, 'module') else model\n",
        "  checkpoint = {'epochs': epochs, \\\n",
        "                'lowest_eval_loss': lowest_eval_loss,\\\n",
        "                'state_dict': model_to_save.state_dict(),\\\n",
        "                'train_loss_hist': train_loss_hist,\\\n",
        "                'valid_loss_hist': valid_loss_hist\n",
        "               }\n",
        "  torch.save(checkpoint, save_path)\n",
        "  print(\"Saving model at epoch {} with validation loss of {}\".format(epochs,\\\n",
        "                                                                     lowest_eval_loss))\n",
        "  return\n",
        "  "
      ],
      "execution_count": null,
      "outputs": []
    },
    {
      "cell_type": "markdown",
      "metadata": {
        "id": "KJzG9Xfu7dxX"
      },
      "source": [
        "##Loading the model from the path directory provided\n"
      ]
    },
    {
      "cell_type": "code",
      "metadata": {
        "id": "OLleTyJw3ixG"
      },
      "source": [
        "def load_model(save_path):\n",
        "\n",
        "  checkpoint = torch.load(save_path)\n",
        "  model_state_dict = checkpoint['state_dict']\n",
        "  model = MultiLabelSequenceClassification(num_labels=model_state_dict[\"classifier.weight\"].size()[0])\n",
        "  model.load_state_dict(model_state_dict)\n",
        "\n",
        "  epochs = checkpoint[\"epochs\"]\n",
        "  lowest_eval_loss = checkpoint[\"lowest_eval_loss\"]\n",
        "  train_loss_hist = checkpoint[\"train_loss_hist\"]\n",
        "  valid_loss_hist = checkpoint[\"valid_loss_hist\"]\n",
        "  \n",
        "  return model, epochs, lowest_eval_loss, train_loss_hist, valid_loss_hist"
      ],
      "execution_count": null,
      "outputs": []
    },
    {
      "cell_type": "code",
      "metadata": {
        "id": "Q8y22tuMujtY",
        "colab": {
          "base_uri": "https://localhost:8080/",
          "height": 34
        },
        "outputId": "23da7a7a-7e97-4ab0-bdd6-ef39202b90b8"
      },
      "source": [
        "import gc\n",
        "gc.collect()"
      ],
      "execution_count": null,
      "outputs": [
        {
          "output_type": "execute_result",
          "data": {
            "text/plain": [
              "338"
            ]
          },
          "metadata": {
            "tags": []
          },
          "execution_count": 26
        }
      ]
    },
    {
      "cell_type": "markdown",
      "metadata": {
        "id": "URHmB12G8LlL"
      },
      "source": [
        "##Using the adamw optimizer and setting a learning rate .\n",
        "## Note: EACH PRE TRAINED MODEL WAS TUNED BASED ON DIFFERENT LEARNING RATE"
      ]
    },
    {
      "cell_type": "code",
      "metadata": {
        "id": "yFjQ37nPz8YV"
      },
      "source": [
        "optimizer = AdamW(model.parameters(), lr=2e-5, weight_decay=0.01, correct_bias=False)"
      ],
      "execution_count": null,
      "outputs": []
    },
    {
      "cell_type": "markdown",
      "metadata": {
        "id": "jbgUa0OzBD3V"
      },
      "source": [
        "## TRAINING THE MODEL FOR 2 EPOCHS AND SAVING IT AT A SPECIFIED PATH"
      ]
    },
    {
      "cell_type": "code",
      "metadata": {
        "id": "65FCBUlZ07ij",
        "colab": {
          "base_uri": "https://localhost:8080/",
          "height": 204
        },
        "outputId": "88309889-6f41-4c0e-ed19-9489cc894a24"
      },
      "source": [
        "torch.cuda.empty_cache()\n",
        "num_epochs= 2\n",
        "\n",
        "gwd = os.getcwd()\n",
        "model_save_path = output_model_file = os.path.join(gwd, \"drive/My Drive/gpt2.bin\")\n",
        "model, train_loss_set, valid_loss_set = train(model=model,\\\n",
        "                                              num_epochs=num_epochs,\\\n",
        "                                              optimizer= optimizer,\n",
        "                                              train_dataloader=train_dataloader,\\\n",
        "                                              valid_dataloader=validation_dataloader,\\\n",
        "                                              model_save_path=model_save_path,\\\n",
        "                                              device=\"cuda\")\n"
      ],
      "execution_count": null,
      "outputs": [
        {
          "output_type": "stream",
          "text": [
            "\rEpoch:   0%|          | 0/2 [00:00<?, ?it/s]"
          ],
          "name": "stderr"
        },
        {
          "output_type": "stream",
          "text": [
            "Train loss: 0.013527274355384271\n",
            "Valid loss: 0.011132294807088125\n"
          ],
          "name": "stdout"
        },
        {
          "output_type": "stream",
          "text": [
            "\rEpoch:  50%|█████     | 1/2 [11:11<11:11, 671.89s/it]"
          ],
          "name": "stderr"
        },
        {
          "output_type": "stream",
          "text": [
            "Saving model at epoch 0 with validation loss of 0.011132294807088125\n",
            "\n",
            "\n",
            "Train loss: 0.010261284923675177\n",
            "Valid loss: 0.010810830369260154\n"
          ],
          "name": "stdout"
        },
        {
          "output_type": "stream",
          "text": [
            "Epoch: 100%|██████████| 2/2 [22:18<00:00, 669.48s/it]"
          ],
          "name": "stderr"
        },
        {
          "output_type": "stream",
          "text": [
            "Saving model at epoch 1 with validation loss of 0.010810830369260154\n",
            "\n",
            "\n"
          ],
          "name": "stdout"
        },
        {
          "output_type": "stream",
          "text": [
            "\n"
          ],
          "name": "stderr"
        }
      ]
    },
    {
      "cell_type": "code",
      "metadata": {
        "id": "t3OIcRVW1C2-",
        "colab": {
          "base_uri": "https://localhost:8080/",
          "height": 71
        },
        "outputId": "5c01ccf7-eea4-4b06-c1ec-e904b466f1a0"
      },
      "source": [
        "gwd = os.getcwd()\n",
        "model_save_path = output_model_file = os.path.join(gwd, \"drive/My Drive/gpt2.bin\")\n",
        "model, start_epoch, lowest_eval_loss, train_loss_hist, valid_loss_hist = load_model(model_save_path)"
      ],
      "execution_count": null,
      "outputs": [
        {
          "output_type": "stream",
          "text": [
            "Some weights of GPT2Model were not initialized from the model checkpoint at gpt2 and are newly initialized: ['h.0.attn.masked_bias', 'h.1.attn.masked_bias', 'h.2.attn.masked_bias', 'h.3.attn.masked_bias', 'h.4.attn.masked_bias', 'h.5.attn.masked_bias', 'h.6.attn.masked_bias', 'h.7.attn.masked_bias', 'h.8.attn.masked_bias', 'h.9.attn.masked_bias', 'h.10.attn.masked_bias', 'h.11.attn.masked_bias']\n",
            "You should probably TRAIN this model on a down-stream task to be able to use it for predictions and inference.\n"
          ],
          "name": "stderr"
        }
      ]
    },
    {
      "cell_type": "code",
      "metadata": {
        "id": "Fjhj6ny_fu-i",
        "colab": {
          "base_uri": "https://localhost:8080/",
          "height": 34
        },
        "outputId": "18b44401-c149-45ea-ccd4-36a48998512f"
      },
      "source": [
        "import gc\n",
        "gc.collect()"
      ],
      "execution_count": null,
      "outputs": [
        {
          "output_type": "execute_result",
          "data": {
            "text/plain": [
              "16726"
            ]
          },
          "metadata": {
            "tags": []
          },
          "execution_count": 41
        }
      ]
    },
    {
      "cell_type": "markdown",
      "metadata": {
        "id": "3qPsJUOsBmRb"
      },
      "source": [
        "## TRAINING THE MODEL FROM CHECKPOINT FOR ANOTHER TWO EPOCHS <br> Note: As we defined the function to save the model with the lowest validation we can see that the validation loss didnot decrease for the 3rd and 4th epoch. "
      ]
    },
    {
      "cell_type": "code",
      "metadata": {
        "id": "7xfmc_J-fiWu",
        "colab": {
          "base_uri": "https://localhost:8080/",
          "height": 170
        },
        "outputId": "e2abed0b-aa14-4b87-ad53-2eea2a549e78"
      },
      "source": [
        "num_epochs= 2\n",
        "model, train_loss_set, valid_loss_set = train(model=model,\\\n",
        "                                              num_epochs=num_epochs,\\\n",
        "                                              optimizer=optimizer,\\\n",
        "                                              train_dataloader=train_dataloader,\\\n",
        "                                              valid_dataloader=validation_dataloader,\\\n",
        "                                              model_save_path=model_save_path,\\\n",
        "                                              train_loss_set=train_loss_hist,\\\n",
        "                                              valid_loss_set=valid_loss_hist,\\\n",
        "                                              lowest_eval_loss=lowest_eval_loss,\\\n",
        "                                              start_epoch=start_epoch,\\\n",
        "                                              device=\"cuda\")"
      ],
      "execution_count": null,
      "outputs": [
        {
          "output_type": "stream",
          "text": [
            "\rEpoch:   0%|          | 0/2 [00:00<?, ?it/s]"
          ],
          "name": "stderr"
        },
        {
          "output_type": "stream",
          "text": [
            "Train loss: 0.009197434730506814\n"
          ],
          "name": "stdout"
        },
        {
          "output_type": "stream",
          "text": [
            "\rEpoch:  50%|█████     | 1/2 [11:04<11:04, 664.92s/it]"
          ],
          "name": "stderr"
        },
        {
          "output_type": "stream",
          "text": [
            "Valid loss: 0.010810830369260154\n",
            "\n",
            "\n",
            "Train loss: 0.009201568303614918\n"
          ],
          "name": "stdout"
        },
        {
          "output_type": "stream",
          "text": [
            "Epoch: 100%|██████████| 2/2 [22:10<00:00, 665.16s/it]"
          ],
          "name": "stderr"
        },
        {
          "output_type": "stream",
          "text": [
            "Valid loss: 0.010810830369260154\n",
            "\n",
            "\n"
          ],
          "name": "stdout"
        },
        {
          "output_type": "stream",
          "text": [
            "\n"
          ],
          "name": "stderr"
        }
      ]
    },
    {
      "cell_type": "code",
      "metadata": {
        "id": "ymPTwEA_56Pk"
      },
      "source": [
        "def generate_predictions(model, df, num_labels, device=\"cpu\", batch_size=32):\n",
        "  num_iter = math.ceil(df.shape[0]/batch_size)\n",
        "  \n",
        "  pred_probs = np.array([]).reshape(0, num_labels)\n",
        "  \n",
        "  model.to(device)\n",
        "  model.eval()\n",
        "  \n",
        "  for i in range(num_iter):\n",
        "    df_subset = df.iloc[i*batch_size:(i+1)*batch_size,:]\n",
        "    X = df_subset[\"features\"].values.tolist()\n",
        "    masks = df_subset[\"masks\"].values.tolist()\n",
        "    X = torch.tensor(X)\n",
        "    masks = torch.tensor(masks, dtype=torch.long)\n",
        "    X = X.to(device)\n",
        "    masks = masks.to(device)\n",
        "    with torch.no_grad():\n",
        "      logits = model(input_ids=X, attention_mask=masks)\n",
        "      logits = logits.sigmoid().detach().cpu().numpy()\n",
        "      pred_probs = np.vstack([pred_probs, logits])\n",
        "  \n",
        "  return pred_probs"
      ],
      "execution_count": null,
      "outputs": []
    },
    {
      "cell_type": "markdown",
      "metadata": {
        "id": "EUS9TdY5Chzw"
      },
      "source": [
        "##Predictions on the training set  (To adjust probability cutoff because we are dealing with multi label classification)"
      ]
    },
    {
      "cell_type": "code",
      "metadata": {
        "id": "phnFINDtYgGm",
        "colab": {
          "base_uri": "https://localhost:8080/",
          "height": 238
        },
        "outputId": "6c8e35b4-d260-4963-cbc6-09fb49d38c63"
      },
      "source": [
        "num_labels = 6\n",
        "train_pred = generate_predictions(model, training, num_labels, device=\"cuda\", batch_size=16)\n",
        "train_pred"
      ],
      "execution_count": null,
      "outputs": [
        {
          "output_type": "execute_result",
          "data": {
            "text/plain": [
              "array([[4.23691452e-01, 1.82962324e-02, 1.10180695e-02, 8.92379940e-01,\n",
              "        8.80635902e-02, 1.33587793e-03],\n",
              "       [9.25777495e-01, 6.74745906e-03, 2.00019771e-04, 3.83399338e-01,\n",
              "        2.62898463e-03, 4.04182007e-04],\n",
              "       [4.85044643e-02, 5.29042147e-02, 8.69564712e-01, 1.35922730e-02,\n",
              "        5.40399051e-04, 9.06618894e-04],\n",
              "       ...,\n",
              "       [7.65205503e-01, 2.65354067e-02, 1.44127558e-03, 6.59885406e-01,\n",
              "        4.40604333e-03, 1.54721120e-03],\n",
              "       [1.52900457e-01, 1.22749582e-02, 4.81304735e-01, 8.46812725e-01,\n",
              "        1.93721452e-03, 4.96710502e-02],\n",
              "       [9.35207754e-02, 1.17747514e-02, 3.21707785e-01, 9.81796861e-01,\n",
              "        9.56869498e-03, 1.40323350e-02]])"
            ]
          },
          "metadata": {
            "tags": []
          },
          "execution_count": 31
        }
      ]
    },
    {
      "cell_type": "code",
      "metadata": {
        "id": "zdUOfDJMadm0"
      },
      "source": [
        "sub_in_ord = ['Computer Science', 'Physics', 'Mathematics', 'Statistics','Quantitative Biology', 'Quantitative Finance']\n",
        "train_check = pd.DataFrame(train_pred, columns = sub_in_ord)\n",
        "train_check.index =training.index"
      ],
      "execution_count": null,
      "outputs": []
    },
    {
      "cell_type": "code",
      "metadata": {
        "id": "ftFE5FjWe-Cu"
      },
      "source": [
        "train_lab = training.select_dtypes(int)"
      ],
      "execution_count": null,
      "outputs": []
    },
    {
      "cell_type": "markdown",
      "metadata": {
        "id": "rcEwxVjNDOY9"
      },
      "source": [
        "## PRECISION-RECALL CURVE"
      ]
    },
    {
      "cell_type": "code",
      "metadata": {
        "id": "n1sDRjmQdJJz",
        "colab": {
          "base_uri": "https://localhost:8080/",
          "height": 1000
        },
        "outputId": "93052db3-04b7-4ddb-d569-32ca0b91056a"
      },
      "source": [
        "b = [0,1,2,3,4,5]\n",
        "\n",
        "from sklearn.metrics import precision_recall_curve\n",
        "\n",
        "for ind in sub_in_ord:\n",
        "    p, r, thresholds = precision_recall_curve(train_lab[ind],train_check[ind])\n",
        "    plt.plot(thresholds, p[:-1], \"g-\")\n",
        "    plt.plot(thresholds, r[:-1], \"r-\")\n",
        "    plt.legend(['precision','recall'])\n",
        "    plt.suptitle('Plot showing the Tradeoff between precision and recall -' + ind , size = 20 )\n",
        "    plt.subplots_adjust(hspace= 0.5)\n",
        "    plt.show()"
      ],
      "execution_count": null,
      "outputs": [
        {
          "output_type": "display_data",
          "data": {
            "image/png": "[encoded data removed]",
            "text/plain": [
              "<Figure size 432x288 with 1 Axes>"
            ]
          },
          "metadata": {
            "tags": [],
            "needs_background": "light"
          }
        },
        {
          "output_type": "display_data",
          "data": {
            "image/png": "[encoded data removed]",
            "text/plain": [
              "<Figure size 432x288 with 1 Axes>"
            ]
          },
          "metadata": {
            "tags": [],
            "needs_background": "light"
          }
        },
        {
          "output_type": "display_data",
          "data": {
            "image/png": "[encoded data removed]",
            "text/plain": [
              "<Figure size 432x288 with 1 Axes>"
            ]
          },
          "metadata": {
            "tags": [],
            "needs_background": "light"
          }
        },
        {
          "output_type": "display_data",
          "data": {
            "image/png": "[encoded data removed]",
            "text/plain": [
              "<Figure size 432x288 with 1 Axes>"
            ]
          },
          "metadata": {
            "tags": [],
            "needs_background": "light"
          }
        },
        {
          "output_type": "display_data",
          "data": {
            "image/png": "[encoded data removed]",
            "text/plain": [
              "<Figure size 432x288 with 1 Axes>"
            ]
          },
          "metadata": {
            "tags": [],
            "needs_background": "light"
          }
        },
        {
          "output_type": "display_data",
          "data": {
            "image/png": "[encoded data removed]",
            "text/plain": [
              "<Figure size 432x288 with 1 Axes>"
            ]
          },
          "metadata": {
            "tags": [],
            "needs_background": "light"
          }
        }
      ]
    },
    {
      "cell_type": "markdown",
      "metadata": {
        "id": "geUOCIYZDgAh"
      },
      "source": [
        "##Predictions on the test set"
      ]
    },
    {
      "cell_type": "code",
      "metadata": {
        "id": "ziQ1RyRoAhk8",
        "colab": {
          "base_uri": "https://localhost:8080/",
          "height": 238
        },
        "outputId": "7428a769-1de4-4b60-a298-ad776ec15edb"
      },
      "source": [
        "num_labels = 6\n",
        "pred_probs = generate_predictions(model, testing, num_labels, device=\"cuda\", batch_size=16)\n",
        "pred_probs"
      ],
      "execution_count": null,
      "outputs": [
        {
          "output_type": "execute_result",
          "data": {
            "text/plain": [
              "array([[2.54460573e-01, 1.10486168e-02, 1.24923036e-01, 9.89711761e-01,\n",
              "        4.11775336e-03, 1.22446148e-02],\n",
              "       [4.49439511e-03, 9.95770514e-01, 1.51660628e-04, 1.39535069e-02,\n",
              "        8.03409610e-04, 6.34741038e-04],\n",
              "       [9.82254446e-01, 1.25649907e-02, 2.04206463e-02, 2.27576997e-02,\n",
              "        4.38070652e-04, 5.38482273e-04],\n",
              "       ...,\n",
              "       [3.63532931e-01, 5.47145940e-02, 2.62154685e-03, 5.29735148e-01,\n",
              "        6.44238830e-01, 4.72569559e-03],\n",
              "       [2.37750128e-01, 6.81130169e-03, 1.11611374e-01, 9.58483577e-01,\n",
              "        1.74456567e-03, 4.78675030e-03],\n",
              "       [6.42734706e-01, 1.20987101e-02, 1.35490239e-01, 2.44616177e-02,\n",
              "        1.44195114e-03, 1.35476026e-03]])"
            ]
          },
          "metadata": {
            "tags": []
          },
          "execution_count": 35
        }
      ]
    },
    {
      "cell_type": "code",
      "metadata": {
        "id": "zOMuB6RJfwEa"
      },
      "source": [
        "crct = [0.5,0.5,0.42,0.55,0.27, 0.1] #IF YOU WANT TO CHOOSE A OPTIMUM CUTOFF BASED ON PRECISION RECALL CURVE"
      ],
      "execution_count": null,
      "outputs": []
    },
    {
      "cell_type": "code",
      "metadata": {
        "id": "auhvhG2FhCAD"
      },
      "source": [
        "sub_in_ord = ['Computer Science', 'Physics', 'Mathematics', 'Statistics','Quantitative Biology', 'Quantitative Finance']\n",
        "\n",
        "predict = pd.DataFrame(pred_probs , columns = sub_in_ord)\n",
        "predict.index =testing.index"
      ],
      "execution_count": null,
      "outputs": []
    },
    {
      "cell_type": "code",
      "metadata": {
        "id": "pUk9LCUAgf9n"
      },
      "source": [
        "# CHOOSING A STABLE CUTOFF OF 0.5 \n",
        "\n",
        "k = 0\n",
        "for x in sub_in_ord:\n",
        "  predict[x] = predict[x].map(lambda y:0 if y < 0.5 else 1)\n",
        "  k +=1\n",
        "\n"
      ],
      "execution_count": null,
      "outputs": []
    },
    {
      "cell_type": "code",
      "metadata": {
        "id": "PyhzyxOCB_gF"
      },
      "source": [
        "predict.to_csv('gpt2_one.csv')"
      ],
      "execution_count": null,
      "outputs": []
    },
    {
      "cell_type": "code",
      "metadata": {
        "id": "ubHYZCPONl_1",
        "colab": {
          "base_uri": "https://localhost:8080/",
          "height": 450
        },
        "outputId": "e76ce98c-7257-4ab3-edde-26f103ba0b43"
      },
      "source": [
        "predict"
      ],
      "execution_count": null,
      "outputs": [
        {
          "output_type": "execute_result",
          "data": {
            "text/html": [
              "<div>\n",
              "<style scoped>\n",
              "    .dataframe tbody tr th:only-of-type {\n",
              "        vertical-align: middle;\n",
              "    }\n",
              "\n",
              "    .dataframe tbody tr th {\n",
              "        vertical-align: top;\n",
              "    }\n",
              "\n",
              "    .dataframe thead th {\n",
              "        text-align: right;\n",
              "    }\n",
              "</style>\n",
              "<table border=\"1\" class=\"dataframe\">\n",
              "  <thead>\n",
              "    <tr style=\"text-align: right;\">\n",
              "      <th></th>\n",
              "      <th>Computer Science</th>\n",
              "      <th>Physics</th>\n",
              "      <th>Mathematics</th>\n",
              "      <th>Statistics</th>\n",
              "      <th>Quantitative Biology</th>\n",
              "      <th>Quantitative Finance</th>\n",
              "    </tr>\n",
              "    <tr>\n",
              "      <th>ID</th>\n",
              "      <th></th>\n",
              "      <th></th>\n",
              "      <th></th>\n",
              "      <th></th>\n",
              "      <th></th>\n",
              "      <th></th>\n",
              "    </tr>\n",
              "  </thead>\n",
              "  <tbody>\n",
              "    <tr>\n",
              "      <th>20973</th>\n",
              "      <td>0</td>\n",
              "      <td>0</td>\n",
              "      <td>0</td>\n",
              "      <td>1</td>\n",
              "      <td>0</td>\n",
              "      <td>0</td>\n",
              "    </tr>\n",
              "    <tr>\n",
              "      <th>20974</th>\n",
              "      <td>0</td>\n",
              "      <td>1</td>\n",
              "      <td>0</td>\n",
              "      <td>0</td>\n",
              "      <td>0</td>\n",
              "      <td>0</td>\n",
              "    </tr>\n",
              "    <tr>\n",
              "      <th>20975</th>\n",
              "      <td>1</td>\n",
              "      <td>0</td>\n",
              "      <td>0</td>\n",
              "      <td>0</td>\n",
              "      <td>0</td>\n",
              "      <td>0</td>\n",
              "    </tr>\n",
              "    <tr>\n",
              "      <th>20976</th>\n",
              "      <td>0</td>\n",
              "      <td>1</td>\n",
              "      <td>0</td>\n",
              "      <td>0</td>\n",
              "      <td>0</td>\n",
              "      <td>0</td>\n",
              "    </tr>\n",
              "    <tr>\n",
              "      <th>20977</th>\n",
              "      <td>1</td>\n",
              "      <td>0</td>\n",
              "      <td>0</td>\n",
              "      <td>0</td>\n",
              "      <td>0</td>\n",
              "      <td>0</td>\n",
              "    </tr>\n",
              "    <tr>\n",
              "      <th>...</th>\n",
              "      <td>...</td>\n",
              "      <td>...</td>\n",
              "      <td>...</td>\n",
              "      <td>...</td>\n",
              "      <td>...</td>\n",
              "      <td>...</td>\n",
              "    </tr>\n",
              "    <tr>\n",
              "      <th>29957</th>\n",
              "      <td>1</td>\n",
              "      <td>0</td>\n",
              "      <td>0</td>\n",
              "      <td>0</td>\n",
              "      <td>0</td>\n",
              "      <td>0</td>\n",
              "    </tr>\n",
              "    <tr>\n",
              "      <th>29958</th>\n",
              "      <td>0</td>\n",
              "      <td>0</td>\n",
              "      <td>1</td>\n",
              "      <td>1</td>\n",
              "      <td>0</td>\n",
              "      <td>0</td>\n",
              "    </tr>\n",
              "    <tr>\n",
              "      <th>29959</th>\n",
              "      <td>0</td>\n",
              "      <td>0</td>\n",
              "      <td>0</td>\n",
              "      <td>1</td>\n",
              "      <td>1</td>\n",
              "      <td>0</td>\n",
              "    </tr>\n",
              "    <tr>\n",
              "      <th>29960</th>\n",
              "      <td>0</td>\n",
              "      <td>0</td>\n",
              "      <td>0</td>\n",
              "      <td>1</td>\n",
              "      <td>0</td>\n",
              "      <td>0</td>\n",
              "    </tr>\n",
              "    <tr>\n",
              "      <th>29961</th>\n",
              "      <td>1</td>\n",
              "      <td>0</td>\n",
              "      <td>0</td>\n",
              "      <td>0</td>\n",
              "      <td>0</td>\n",
              "      <td>0</td>\n",
              "    </tr>\n",
              "  </tbody>\n",
              "</table>\n",
              "<p>8989 rows × 6 columns</p>\n",
              "</div>"
            ],
            "text/plain": [
              "       Computer Science  Physics  ...  Quantitative Biology  Quantitative Finance\n",
              "ID                                ...                                            \n",
              "20973                 0        0  ...                     0                     0\n",
              "20974                 0        1  ...                     0                     0\n",
              "20975                 1        0  ...                     0                     0\n",
              "20976                 0        1  ...                     0                     0\n",
              "20977                 1        0  ...                     0                     0\n",
              "...                 ...      ...  ...                   ...                   ...\n",
              "29957                 1        0  ...                     0                     0\n",
              "29958                 0        0  ...                     0                     0\n",
              "29959                 0        0  ...                     1                     0\n",
              "29960                 0        0  ...                     0                     0\n",
              "29961                 1        0  ...                     0                     0\n",
              "\n",
              "[8989 rows x 6 columns]"
            ]
          },
          "metadata": {
            "tags": []
          },
          "execution_count": 40
        }
      ]
    },
    {
      "cell_type": "markdown",
      "metadata": {
        "id": "FNXGoqThc3Zx"
      },
      "source": [
        "## USING THE ABOVE METHOD MANY TRANSFORMER MODELS WERE FINE TUNED AND SAVED IN THEIR RESPECTIVE PATH. AFTER THAT AN ENSEMBLE FOR 4 TRANSFORMER PREDICTIONS WERE CREATED AND GIVEN FOR SUBMISSION"
      ]
    },
    {
      "cell_type": "code",
      "metadata": {
        "id": "MeErhjZOrTKD"
      },
      "source": [
        "import numpy as np\n",
        "import pandas as pd"
      ],
      "execution_count": null,
      "outputs": []
    },
    {
      "cell_type": "code",
      "metadata": {
        "id": "w4utbyX8c3Zz"
      },
      "source": [
        "bert = pd.read_csv('/Users/madhavan/Desktop/new /janata_hack/independence_day/bert.csv' , index_col = 'ID')\n",
        "scibert = pd.read_csv('/Users/madhavan/Desktop/new /janata_hack/independence_day/scibert.csv' , index_col = 'ID')\n",
        "xlnet = pd.read_csv('/Users/madhavan/Desktop/new /janata_hack/independence_day/xlnet_trail_2.csv' , index_col = 'ID')\n",
        "gpt_2_one = pd.read_csv('/Users/madhavan/Desktop/new /janata_hack/independence_day/gpt2_one.csv' , index_col = 'ID')\n"
      ],
      "execution_count": null,
      "outputs": []
    },
    {
      "cell_type": "code",
      "metadata": {
        "id": "JZCxEeW8c3Z1"
      },
      "source": [
        "final_sub = (bert + scibert + xlnet + gpt_2_one)/4\n",
        "final_sub = final_sub.apply(lambda x:x.map(lambda y:1 if y >= 0.5 else 0))"
      ],
      "execution_count": null,
      "outputs": []
    },
    {
      "cell_type": "code",
      "metadata": {
        "id": "BpU5N6qLc3Z2"
      },
      "source": [
        "final_sub.to_csv('final_sub.csv')"
      ],
      "execution_count": null,
      "outputs": []
    },
    {
      "cell_type": "code",
      "metadata": {
        "id": "sgbFdKTAc3Z3"
      },
      "source": [
        ""
      ],
      "execution_count": null,
      "outputs": []
    }
  ]
}